{
 "cells": [
  {
   "cell_type": "markdown",
   "metadata": {},
   "source": [
    "## 2.4 Macierzowa reprezentacja liczb zespolonych\n",
    "$$\n",
    "A = \\begin{bmatrix} a & -b \\\\ b & a \\end{bmatrix} \\\\\n",
    "B_{0} = \\begin{bmatrix} 0 & 0 \\\\ 0 & 0 \\end{bmatrix} \\\\\n",
    "B_{n+1}=B*B+A\n",
    "$$"
   ]
  },
  {
   "cell_type": "code",
   "execution_count": 10,
   "metadata": {},
   "outputs": [],
   "source": [
    "import numpy as np\n",
    "import matplotlib.pyplot as plt\n",
    "%matplotlib inline"
   ]
  },
  {
   "cell_type": "code",
   "execution_count": 8,
   "metadata": {},
   "outputs": [],
   "source": [
    "a_all = np.linspace(-2., 2., 401)\n",
    "b_all = np.linspace(-2., 2., 401)"
   ]
  },
  {
   "cell_type": "code",
   "execution_count": 9,
   "metadata": {},
   "outputs": [
    {
     "name": "stderr",
     "output_type": "stream",
     "text": [
      "D:\\Programy\\Anaconda\\envs\\CFD\\lib\\site-packages\\ipykernel_launcher.py:12: RuntimeWarning: overflow encountered in matmul\n",
      "  if sys.path[0] == '':\n",
      "D:\\Programy\\Anaconda\\envs\\CFD\\lib\\site-packages\\ipykernel_launcher.py:12: RuntimeWarning: invalid value encountered in matmul\n",
      "  if sys.path[0] == '':\n"
     ]
    },
    {
     "data": {
      "image/png": "[encoded data removed]",
      "text/plain": [
       "<Figure size 432x288 with 1 Axes>"
      ]
     },
     "metadata": {
      "needs_background": "light"
     },
     "output_type": "display_data"
    }
   ],
   "source": [
    "for a in a_all:\n",
    "    for b in b_all:\n",
    "        \n",
    "        A = np.array([[a, -b],\n",
    "                      [b, a]])\n",
    "\n",
    "        B0 = np.array([[0, 0],\n",
    "                       [0, 0]])\n",
    "\n",
    "        B = B0\n",
    "        for i in range(1, 101):\n",
    "            B = np.matmul(B, B) + A\n",
    "            \n",
    "        if(np.linalg.det(B) < 2):\n",
    "            plt.plot(100*a, 100*b, 'k.')\n",
    "        else:\n",
    "            plt.plot(100*a, 100*b, 'w.')\n"
   ]
  },
  {
   "cell_type": "markdown",
   "metadata": {},
   "source": [
    "Każdą liczbę zespoloną $z=a+bi$ można przedstawić w postaci macierzy $\\begin{bmatrix} a & -b \\\\ b & a \\end{bmatrix}$.  \n",
    "Można ją zapisać jako: $\\begin{bmatrix} a & -b \\\\ b & a \\end{bmatrix}=a*\\begin{bmatrix} 1 & 0 \\\\ 0 & 1 \\end{bmatrix}+b*\\begin{bmatrix} 0 & -1 \\\\ 1 & 0 \\end{bmatrix}$.  \n",
    "Wtedy liczba rzeczywista 1 jest reprezentowana przez macierz $\\begin{bmatrix} 1 & 0 \\\\ 0 & 1 \\end{bmatrix}$, a liczba urojona $i$ przez macierz $\\begin{bmatrix} 0 & -1 \\\\ 1 & 0 \\end{bmatrix}$"
   ]
  }
 ],
 "metadata": {
  "kernelspec": {
   "display_name": "Python 3",
   "language": "python",
   "name": "python3"
  },
  "language_info": {
   "codemirror_mode": {
    "name": "ipython",
    "version": 3
   },
   "file_extension": ".py",
   "mimetype": "text/x-python",
   "name": "python",
   "nbconvert_exporter": "python",
   "pygments_lexer": "ipython3",
   "version": "3.7.0"
  }
 },
 "nbformat": 4,
 "nbformat_minor": 4
}
